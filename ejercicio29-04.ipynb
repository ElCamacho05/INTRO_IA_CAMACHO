{
 "cells": [
  {
   "cell_type": "code",
   "execution_count": 1,
   "id": "23a12e79",
   "metadata": {},
   "outputs": [],
   "source": [
    "import matplotlib.pyplot as plt\n",
    "import numpy as np"
   ]
  },
  {
   "cell_type": "code",
   "execution_count": 2,
   "id": "fe741df3",
   "metadata": {},
   "outputs": [
    {
     "name": "stdout",
     "output_type": "stream",
     "text": [
      "[6, 6]\n",
      "[7, 7]\n",
      "[8, 7]\n"
     ]
    },
    {
     "data": {
      "image/png": "[encoded data removed]",
      "text/plain": [
       "<Figure size 640x480 with 1 Axes>"
      ]
     },
     "metadata": {},
     "output_type": "display_data"
    }
   ],
   "source": [
    "robot_pos =  [5,5]\n",
    "goal_pos = [7,2]\n",
    "\n",
    "def dibujar():\n",
    "    plt.grid(True)\n",
    "    plt.scatter(robot_pos[0], robot_pos[1], marker = \"*\") # dibuja la posicion del robot\n",
    "    plt.scatter(goal_pos[0], goal_pos[1]) # dibula la posicion de la meta\n",
    "    plt.plot([0,0,10, 10,0], [0,10,10,0,0]) # dibujamos un cuadro delimitando el espacio de trabajo\n",
    "\n",
    "dibujar()\n",
    "\n",
    "# stopx = abs(goal_pos[0] - robot_pos[0]) + 1\n",
    "# stopy = abs(goal_pos[1] - robot_pos[1]) + 1\n",
    "\n",
    "# for i in range(stopx):\n",
    "#     print(robot_pos[0])\n",
    "#     plt.scatter(robot_pos[0] + i, robot_pos[1], marker=\"*\")\n",
    "\n",
    "# robot_pos[0] += stopy -1\n",
    "\n",
    "# for i in range(1, abs(goal_pos[1] - robot_pos[1])+1):\n",
    "#     print(i)\n",
    "#     plt.scatter(robot_pos[0]-1, robot_pos[1]-i, marker = \"+\")\n",
    "\n",
    "    \n",
    "dx = robot_pos[0] - goal_pos[0]\n",
    "dy = robot_pos[1] - goal_pos[1]\n",
    "\n",
    "robot_pos =  [5,5]\n",
    "goal_pos = [8,7]\n",
    "pos = robot_pos[:]\n",
    "\n",
    "while pos[0] != goal_pos[0] or pos[1] != goal_pos[1]:\n",
    "    if pos[0]>goal_pos[0]:\n",
    "        pos[0]-=1\n",
    "    if pos[0]<goal_pos[0]:\n",
    "        pos[0]+=1\n",
    "    if pos[1]>goal_pos[1]:\n",
    "        pos[1]-=1\n",
    "    if pos[1]<goal_pos[1]:\n",
    "        pos[1]+=1\n",
    "\n",
    "    print(pos)\n",
    "    plt.scatter(pos[0], pos[1], marker = \"o\")\n",
    "        "
   ]
  },
  {
   "cell_type": "code",
   "execution_count": 3,
   "id": "2585fc7c",
   "metadata": {},
   "outputs": [],
   "source": [
    "def dibujar(gp):\n",
    "    plt.grid(True)\n",
    "    #plt.scatter(gp[0], gp[1]) # dibula la posicion de la meta\n",
    "    plt.plot([0,0,10, 10,0], [0,10,10,0,0]) # dibujamos un cuadro delimitando el espacio de trabajo"
   ]
  },
  {
   "cell_type": "code",
   "execution_count": 4,
   "id": "4c0f0a59",
   "metadata": {},
   "outputs": [],
   "source": [
    "class Nodo():\n",
    "    def __init__(self, estado):\n",
    "        self.estado = estado\n",
    "        self.hijos = []\n",
    "    \n",
    "    def genera_hijos(self, obstaculos, limites):\n",
    "        # uno arriba\n",
    "        pos_arriba = self.pos[:]\n",
    "        pos_arriba[1] += 1\n",
    "\n",
    "        # uno abajo\n",
    "        pos_abajo = self.pos[:]\n",
    "        pos_abajo[1] -= 1\n",
    "        \n",
    "        # uno izq\n",
    "        pos_izq = self.pos[:]\n",
    "        pos_izq [0] -= 1\n",
    "        \n",
    "        # uno der\n",
    "        pos_der = self.pos[:]\n",
    "        pos_der[0] += 1\n",
    "        \n",
    "        # diagonales\n",
    "\n",
    "        #checar validez de nuestro punto\n",
    "        # 1. no choque\n",
    "        # 2. este adentro de los limites  \n",
    "        if limites[0] <= pos_arriba[0] <= limites[2] and limites[1] <= pos_arriba[1] <= limites[3] :\n",
    "            # esta en el limite permitido\n",
    "            for o in obstaculos:\n",
    "                if not o.en_colision(pos_arriba):\n",
    "                    self.hijos.append(Nodo(pos_arriba))\n",
    "\n",
    "        if limites[0] <= pos_abajo[0] <= limites[2] and limites[1] <= pos_abajo[1] <= limites[3] :\n",
    "            # esta en el limite permitido\n",
    "            for o in obstaculos:\n",
    "                if not o.en_colision(pos_abajo):\n",
    "                    self.hijos.append(Nodo(pos_abajo))\n",
    "\n",
    "        if limites[0] <= pos_izq[0] <= limites[2] and limites[1] <= pos_izq[1] <= limites[3] :\n",
    "            # esta en el limite permitido\n",
    "            for o in obstaculos:\n",
    "                if not o.en_colision(pos_izq):\n",
    "                    self.hijos.append(Nodo(pos_izq))\n",
    "\n",
    "        if limites[0] <= pos_der[0] <= limites[2] and limites[1] <= pos_der[1] <= limites[3] :\n",
    "            # esta en el limite permitido\n",
    "            for o in obstaculos:\n",
    "                if not o.en_colision(pos_der):\n",
    "                    self.hijos.append(Nodo(pos_der))\n",
    "            \n",
    "\n",
    "\n"
   ]
  },
  {
   "cell_type": "code",
   "execution_count": 5,
   "id": "36d71807",
   "metadata": {},
   "outputs": [],
   "source": [
    "class Robot():\n",
    "    def __init__(self, pos = [5,5], limites = [0,0,10,10], obstaculos = []):\n",
    "        self.pos = pos\n",
    "        self.limites = limites\n",
    "        self.obstaculos = obstaculos\n",
    "        self.trajectory = []\n",
    "    \n",
    "    def agrega_obstaculo(self, obs):\n",
    "        self.obstaculos.append(obs)\n",
    "\n",
    "    def plot_robot(self):\n",
    "        plt.scatter(self.pos[0], self.pos[1])\n",
    "\n",
    "    def BPP(self):\n",
    "        pass\n",
    "\n",
    "    def go_to_pos(self, goal_pos):\n",
    "        self.trajectory += self.pos\n",
    "        print(f\"{self.limites[1]} <= {self.pos[1]} <= {self.limites[3]} and {self.limites[0]} <= {self.pos[0]} <= {self.limites[2]:}\")\n",
    "        if self.limites[1] <= self.pos[1] <= self.limites[3] and self.limites[0] <= self.pos[0] <= self.limites[2]:\n",
    "\n",
    "            while self.pos[0] != goal_pos[0] or self.pos[1] != goal_pos[1]:\n",
    "\n",
    "\n",
    "                if self.pos[0]>goal_pos[0]:\n",
    "                    self.pos[0]-=1\n",
    "                if self.pos[0]<goal_pos[0]:\n",
    "                    self.pos[0]+=1\n",
    "                if self.pos[1]>goal_pos[1]:\n",
    "                    self.pos[1]-=1\n",
    "                if self.pos[1]<goal_pos[1]:\n",
    "                    self.pos[1]+=1\n",
    "\n",
    "                if self.obstaculos[0].en_colision(self.pos):\n",
    "                    print(\"Ya valio\")\n",
    "\n",
    "                self.trajectory += self.pos\n",
    "                print(f\"x: {self.pos[0]}, y: {self.pos[1]}\")\n",
    "                #self.plot_robot()\n",
    "                #plt.scatter(self.pos[0], self.pos[1], marker = \"*\")\n",
    "\n",
    "    def mover_arriba(self):\n",
    "        self.pos[1] += 1\n",
    "\n",
    "    def mover_abajo(self):\n",
    "        self.pos[1] -= 1\n",
    "    \n",
    "    def mover_derecha(self):\n",
    "        self.pos[0] += 1\n",
    "    \n",
    "    def mover_izquierda(self):\n",
    "        self.pos[0] -= 1"
   ]
  },
  {
   "cell_type": "code",
   "execution_count": 6,
   "id": "f5ccaa6d",
   "metadata": {},
   "outputs": [],
   "source": [
    "class Obstaculo():\n",
    "    def __init__(self, v1, v2):\n",
    "        self.v1 = v1 # esquina superior\n",
    "        self.v2 = v2 # esquina inferior\n",
    "\n",
    "    def en_colision(self, punto):\n",
    "        if self.v1[0] <= punto[0] <= self.v2[0] and self.v2[1] <= punto[1] <= self.v1[1]:\n",
    "            return True\n",
    "        return False\n",
    "    \n",
    "    def dibuja(self):\n",
    "        x = [self.v1[0], self.v2[0], self.v2[0], self.v1[0], self.v1[0]]\n",
    "        y = [self.v1[1], self.v1[1], self.v2[1], self.v2[1], self.v1[1]]\n",
    "        plt.plot(x,y)\n",
    "        \n"
   ]
  },
  {
   "cell_type": "code",
   "execution_count": 7,
   "id": "a1388686",
   "metadata": {},
   "outputs": [
    {
     "data": {
      "image/png": "[encoded data removed]",
      "text/plain": [
       "<Figure size 640x480 with 1 Axes>"
      ]
     },
     "metadata": {},
     "output_type": "display_data"
    }
   ],
   "source": [
    "dibujar([])\n",
    "obs = Obstaculo([6,6], [10,2])\n",
    "obs.dibuja()"
   ]
  },
  {
   "cell_type": "code",
   "execution_count": 8,
   "id": "225c7b96",
   "metadata": {},
   "outputs": [
    {
     "data": {
      "image/png": "[encoded data removed]",
      "text/plain": [
       "<Figure size 640x480 with 1 Axes>"
      ]
     },
     "metadata": {},
     "output_type": "display_data"
    }
   ],
   "source": [
    "wall_E = Robot()\n",
    "\n",
    "dibujar([5,6])\n",
    "\n",
    "wall_E.plot_robot()\n",
    "wall_E.mover_arriba()\n",
    "wall_E.plot_robot()\n",
    "wall_E.mover_izquierda()\n",
    "wall_E.plot_robot()\n",
    "wall_E.mover_abajo()\n"
   ]
  },
  {
   "cell_type": "code",
   "execution_count": 9,
   "id": "31dbd3e1",
   "metadata": {},
   "outputs": [
    {
     "name": "stdout",
     "output_type": "stream",
     "text": [
      "0 <= 0 <= 10 and 0 <= 5 <= 10\n",
      "x: 6, y: 1\n",
      "Ya valio\n",
      "x: 7, y: 2\n",
      "Ya valio\n",
      "x: 8, y: 3\n",
      "Ya valio\n",
      "x: 8, y: 4\n",
      "Ya valio\n",
      "x: 8, y: 5\n",
      "Ya valio\n",
      "x: 8, y: 6\n",
      "x: 8, y: 7\n",
      "x: 8, y: 8\n"
     ]
    },
    {
     "data": {
      "text/plain": [
       "[<matplotlib.lines.Line2D at 0x7fa2a3a3fd60>]"
      ]
     },
     "execution_count": 9,
     "metadata": {},
     "output_type": "execute_result"
    },
    {
     "data": {
      "image/png": "[encoded data removed]",
      "text/plain": [
       "<Figure size 640x480 with 1 Axes>"
      ]
     },
     "metadata": {},
     "output_type": "display_data"
    }
   ],
   "source": [
    "wall_E = Robot([5,0])\n",
    "wall_E.agrega_obstaculo(Obstaculo([6,6],[10,2]))\n",
    "dibujar([5,6])\n",
    "wall_E.obstaculos[0].dibuja()\n",
    "wall_E.plot_robot()\n",
    "wall_E.go_to_pos([8,8])\n",
    "plt.plot(wall_E.trajectory[0::2], wall_E.trajectory[1::2])\n",
    "\n"
   ]
  },
  {
   "cell_type": "code",
   "execution_count": null,
   "id": "27f2272a",
   "metadata": {},
   "outputs": [],
   "source": []
  }
 ],
 "metadata": {
  "kernelspec": {
   "display_name": "myenv",
   "language": "python",
   "name": "python3"
  },
  "language_info": {
   "codemirror_mode": {
    "name": "ipython",
    "version": 3
   },
   "file_extension": ".py",
   "mimetype": "text/x-python",
   "name": "python",
   "nbconvert_exporter": "python",
   "pygments_lexer": "ipython3",
   "version": "3.10.16"
  }
 },
 "nbformat": 4,
 "nbformat_minor": 5
}
