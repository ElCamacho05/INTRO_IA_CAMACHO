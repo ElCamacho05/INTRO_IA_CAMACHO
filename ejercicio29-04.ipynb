{
 "cells": [
  {
   "cell_type": "code",
   "execution_count": null,
   "id": "23a12e79",
   "metadata": {},
   "outputs": [],
   "source": [
    "import matplotlib.pyplot as plt\n",
    "import numpy as np"
   ]
  },
  {
   "cell_type": "code",
   "execution_count": null,
   "id": "fe741df3",
   "metadata": {},
   "outputs": [
    {
     "name": "stdout",
     "output_type": "stream",
     "text": [
      "[6, 6]\n",
      "[7, 7]\n",
      "[8, 7]\n"
     ]
    },
    {
     "data": {
      "image/png": "[encoded data removed]",
      "text/plain": [
       "<Figure size 640x480 with 1 Axes>"
      ]
     },
     "metadata": {},
     "output_type": "display_data"
    }
   ],
   "source": [
    "robot_pos =  [5,5]\n",
    "goal_pos = [7,2]\n",
    "\n",
    "def dibujar():\n",
    "    plt.grid(True)\n",
    "    plt.scatter(robot_pos[0], robot_pos[1], marker = \"*\") # dibuja la posicion del robot\n",
    "    plt.scatter(goal_pos[0], goal_pos[1]) # dibula la posicion de la meta\n",
    "    plt.plot([0,0,10, 10,0], [0,10,10,0,0]) # dibuja un cuadro delimitando el espacio de trabajo\n",
    "\n",
    "dibujar()\n",
    "\n",
    "# stopx = abs(goal_pos[0] - robot_pos[0]) + 1\n",
    "# stopy = abs(goal_pos[1] - robot_pos[1]) + 1\n",
    "\n",
    "# for i in range(stopx):\n",
    "#     print(robot_pos[0])\n",
    "#     plt.scatter(robot_pos[0] + i, robot_pos[1], marker=\"*\")\n",
    "\n",
    "# robot_pos[0] += stopy -1\n",
    "\n",
    "# for i in range(1, abs(goal_pos[1] - robot_pos[1])+1):\n",
    "#     print(i)\n",
    "#     plt.scatter(robot_pos[0]-1, robot_pos[1]-i, marker = \"+\")\n",
    "\n",
    "    \n",
    "dx = robot_pos[0] - goal_pos[0]\n",
    "dy = robot_pos[1] - goal_pos[1]\n",
    "\n",
    "robot_pos =  [5,5]\n",
    "goal_pos = [8,7]\n",
    "pos = robot_pos[:]\n",
    "\n",
    "while pos[0] != goal_pos[0] or pos[1] != goal_pos[1]:\n",
    "    if pos[0]>goal_pos[0]:\n",
    "        pos[0]-=1\n",
    "    if pos[0]<goal_pos[0]:\n",
    "        pos[0]+=1\n",
    "    if pos[1]>goal_pos[1]:\n",
    "        pos[1]-=1\n",
    "    if pos[1]<goal_pos[1]:\n",
    "        pos[1]+=1\n",
    "\n",
    "    print(pos)\n",
    "    plt.scatter(pos[0], pos[1], marker = \"o\")\n",
    "        "
   ]
  },
  {
   "cell_type": "code",
   "execution_count": 319,
   "id": "2585fc7c",
   "metadata": {},
   "outputs": [],
   "source": [
    "def dibujar(gp):\n",
    "    plt.grid(True)\n",
    "    plt.scatter(gp[0], gp[1]) # dibula la posicion de la meta\n",
    "    plt.plot([0,0,10, 10,0], [0,10,10,0,0]) # dibujamos un cuadro delimitando el espacio de trabajo"
   ]
  },
  {
   "cell_type": "code",
   "execution_count": 320,
   "id": "4c0f0a59",
   "metadata": {},
   "outputs": [],
   "source": [
    "def es_punto_valido(punto, obstaculos, limites):\n",
    "    # esta en el limite permitido?\n",
    "    if limites[0] <= punto[0] <= limites[2] and limites[1] <= punto[1] <= limites[3] :\n",
    "        # Hay colision\n",
    "        for o in obstaculos:\n",
    "            if o.en_colision(punto):\n",
    "                return False\n",
    "        return True\n",
    "    return False\n",
    "\n",
    "class Nodo():\n",
    "    def __init__(self, pos):\n",
    "        self.pos = pos\n",
    "        self.hijos = []\n",
    "\n",
    "    def genera_hijos(self, obstaculos, limites):\n",
    "        # uno arriba\n",
    "        pos_arriba = self.pos[:]\n",
    "        pos_arriba[1] += 1\n",
    "\n",
    "        # uno abajo\n",
    "        pos_abajo = self.pos[:]\n",
    "        pos_abajo[1] -= 1\n",
    "        \n",
    "        # uno izq\n",
    "        pos_izq = self.pos[:]\n",
    "        pos_izq [0] -= 1\n",
    "        \n",
    "        # uno der\n",
    "        pos_der = self.pos[:]\n",
    "        pos_der[0] += 1\n",
    "        \n",
    "        # diagonales\n",
    "\n",
    "        if es_punto_valido(pos_arriba, obstaculos, limites):\n",
    "            self.hijos.append(Nodo(pos_arriba))\n",
    "\n",
    "        if es_punto_valido(pos_abajo, obstaculos, limites):\n",
    "            self.hijos.append(Nodo(pos_abajo))\n",
    "        \n",
    "        if es_punto_valido(pos_izq, obstaculos, limites):\n",
    "            self.hijos.append(Nodo(pos_izq))\n",
    "        \n",
    "        if es_punto_valido(pos_der, obstaculos, limites):\n",
    "            self.hijos.append(Nodo(pos_der))\n",
    "\n",
    "    def __eq__(self, n2):\n",
    "        return self.pos == n2.pos\n",
    "\n",
    "    def __str__(self):\n",
    "        print(self.pos)\n",
    "\n",
    "    def bpp(self, meta, robot, visitados = []):\n",
    "        \n",
    "        if self.pos == meta:\n",
    "            return [self]\n",
    "        \n",
    "        if self in visitados:\n",
    "            return None\n",
    "        \n",
    "        self.genera_hijos(robot.obstaculos, robot.limites)\n",
    "        visitados.append(self)\n",
    "\n",
    "        for h in self.hijos:\n",
    "            resp = h.bpp(meta, robot, visitados)\n",
    "            if resp:\n",
    "                \n",
    "                resp.append(self)\n",
    "                return resp\n",
    "        return None\n",
    "\n"
   ]
  },
  {
   "cell_type": "code",
   "execution_count": 321,
   "id": "36d71807",
   "metadata": {},
   "outputs": [],
   "source": [
    "class Robot():\n",
    "    def __init__(self, pos = [5,5], limites = [0,0,10,10], obstaculos = []):\n",
    "        self.pos = pos\n",
    "        self.limites = limites\n",
    "        self.obstaculos = obstaculos\n",
    "        self.trajectory = []\n",
    "    \n",
    "    def agrega_obstaculo(self, obs):\n",
    "        self.obstaculos.append(obs)\n",
    "\n",
    "    def plot_robot(self):\n",
    "        plt.scatter(self.pos[0], self.pos[1])\n",
    "\n",
    "    def BPP(self, meta, visitados = []):\n",
    "        raiz = Nodo(self.pos)\n",
    "        camino = raiz.bpp(meta, self)\n",
    "        self.trajectory = []\n",
    "        for paso in camino:\n",
    "            self.trajectory += paso.pos\n",
    "        return camino\n",
    "        \n"
   ]
  },
  {
   "cell_type": "code",
   "execution_count": 322,
   "id": "f5ccaa6d",
   "metadata": {},
   "outputs": [],
   "source": [
    "class Obstaculo():\n",
    "    def __init__(self, v1, v2):\n",
    "        self.v1 = v1 # esquina superior\n",
    "        self.v2 = v2 # esquina inferior\n",
    "\n",
    "    def en_colision(self, punto):\n",
    "        if self.v1[0] <= punto[0] <= self.v2[0] and self.v2[1] <= punto[1] <= self.v1[1]:\n",
    "            return True\n",
    "        return False\n",
    "    \n",
    "    def dibuja(self):\n",
    "        x = [self.v1[0], self.v2[0], self.v2[0], self.v1[0], self.v1[0]]\n",
    "        y = [self.v1[1], self.v1[1], self.v2[1], self.v2[1], self.v1[1]]\n",
    "        plt.plot(x,y)\n",
    "        \n"
   ]
  },
  {
   "cell_type": "code",
   "execution_count": 323,
   "id": "31dbd3e1",
   "metadata": {},
   "outputs": [
    {
     "data": {
      "text/plain": [
       "[<matplotlib.lines.Line2D at 0x7fe58cd371c0>]"
      ]
     },
     "execution_count": 323,
     "metadata": {},
     "output_type": "execute_result"
    },
    {
     "data": {
      "image/png": "[encoded data removed]",
      "text/plain": [
       "<Figure size 640x480 with 1 Axes>"
      ]
     },
     "metadata": {},
     "output_type": "display_data"
    }
   ],
   "source": [
    "wall_E = Robot([5,0])\n",
    "wall_E.agrega_obstaculo(Obstaculo([6,6],[10,2]))\n",
    "dibujar([8,8])\n",
    "wall_E.obstaculos[0].dibuja()\n",
    "wall_E.plot_robot()\n",
    "wall_E.BPP(meta=[8,8])\n",
    "plt.plot(wall_E.trajectory[0::2], wall_E.trajectory[1::2])\n",
    "\n"
   ]
  },
  {
   "cell_type": "code",
   "execution_count": null,
   "id": "27f2272a",
   "metadata": {},
   "outputs": [],
   "source": []
  }
 ],
 "metadata": {
  "kernelspec": {
   "display_name": "myenv",
   "language": "python",
   "name": "python3"
  },
  "language_info": {
   "codemirror_mode": {
    "name": "ipython",
    "version": 3
   },
   "file_extension": ".py",
   "mimetype": "text/x-python",
   "name": "python",
   "nbconvert_exporter": "python",
   "pygments_lexer": "ipython3",
   "version": "3.10.16"
  }
 },
 "nbformat": 4,
 "nbformat_minor": 5
}
