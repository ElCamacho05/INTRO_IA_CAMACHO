{
 "cells": [
  {
   "cell_type": "code",
   "execution_count": 3,
   "id": "db70ae64",
   "metadata": {},
   "outputs": [],
   "source": [
    "import numpy as np\n",
    "from sklearn.neural_network import MLPClassifier"
   ]
  },
  {
   "cell_type": "code",
   "execution_count": null,
   "id": "121167b1",
   "metadata": {},
   "outputs": [],
   "source": []
  },
  {
   "cell_type": "markdown",
   "id": "e15a13a5",
   "metadata": {},
   "source": [
    "# imagenes a clasificar\n",
    "[\n",
    "    [1,0],\n",
    "    [0,0] = 1\n",
    "]\n",
    "\n",
    "[\n",
    "    [0,0],\n",
    "    [0,1] = 2\n",
    "]\n",
    "\n",
    "[\n",
    "    [1,1],\n",
    "    [0,0] = 3\n",
    "]\n",
    "\n",
    "[\n",
    "    [1,0],\n",
    "    [1,1] = 4\n",
    "]"
   ]
  },
  {
   "cell_type": "code",
   "execution_count": 19,
   "id": "8388b761",
   "metadata": {},
   "outputs": [],
   "source": [
    "uno = np.array([\n",
    "    [1,0],\n",
    "    [0,0]\n",
    "])\n",
    "\n",
    "dos = np.array([\n",
    "    [1,0],\n",
    "    [0,1]\n",
    "])\n",
    "\n",
    "tres = np.array([\n",
    "    [1,1],\n",
    "    [0,0]\n",
    "])\n",
    "\n",
    "cuatro = np.array([\n",
    "    [1,0],\n",
    "    [1,1]\n",
    "])"
   ]
  },
  {
   "cell_type": "code",
   "execution_count": 5,
   "id": "0baca2e1",
   "metadata": {},
   "outputs": [
    {
     "data": {
      "text/plain": [
       "array([[1, 0],\n",
       "       [0, 0]])"
      ]
     },
     "execution_count": 5,
     "metadata": {},
     "output_type": "execute_result"
    }
   ],
   "source": [
    "uno"
   ]
  },
  {
   "cell_type": "code",
   "execution_count": 6,
   "id": "c63a25e3",
   "metadata": {},
   "outputs": [
    {
     "data": {
      "text/plain": [
       "(2, 2)"
      ]
     },
     "execution_count": 6,
     "metadata": {},
     "output_type": "execute_result"
    }
   ],
   "source": [
    "uno.shape"
   ]
  },
  {
   "cell_type": "code",
   "execution_count": null,
   "id": "36cdedac",
   "metadata": {},
   "outputs": [
    {
     "data": {
      "text/plain": [
       "np.int64(1)"
      ]
     },
     "execution_count": 8,
     "metadata": {},
     "output_type": "execute_result"
    }
   ],
   "source": [
    "uno[0,0] # uno[0][0]"
   ]
  },
  {
   "cell_type": "code",
   "execution_count": 12,
   "id": "ff4fe27d",
   "metadata": {},
   "outputs": [
    {
     "data": {
      "text/plain": [
       "(1, 4)"
      ]
     },
     "execution_count": 12,
     "metadata": {},
     "output_type": "execute_result"
    }
   ],
   "source": [
    "uno.reshape(1,4).shape"
   ]
  },
  {
   "cell_type": "code",
   "execution_count": 13,
   "id": "f25096f9",
   "metadata": {},
   "outputs": [
    {
     "data": {
      "text/plain": [
       "(4,)"
      ]
     },
     "execution_count": 13,
     "metadata": {},
     "output_type": "execute_result"
    }
   ],
   "source": [
    "uno.flatten().shape"
   ]
  },
  {
   "cell_type": "code",
   "execution_count": 20,
   "id": "bdf72ea3",
   "metadata": {},
   "outputs": [],
   "source": [
    "uno = uno.flatten()\n",
    "dos = dos.flatten()\n",
    "tres = tres.flatten()\n",
    "cuatro = cuatro.flatten()"
   ]
  },
  {
   "cell_type": "code",
   "execution_count": 21,
   "id": "cf10aef6",
   "metadata": {},
   "outputs": [],
   "source": [
    "dataset = [uno,dos,tres,cuatro]"
   ]
  },
  {
   "cell_type": "code",
   "execution_count": 22,
   "id": "a20cf301",
   "metadata": {},
   "outputs": [
    {
     "data": {
      "text/plain": [
       "[array([1, 0, 0, 0]),\n",
       " array([1, 0, 0, 1]),\n",
       " array([1, 1, 0, 0]),\n",
       " array([1, 0, 1, 1])]"
      ]
     },
     "execution_count": 22,
     "metadata": {},
     "output_type": "execute_result"
    }
   ],
   "source": [
    "dataset"
   ]
  },
  {
   "cell_type": "code",
   "execution_count": 24,
   "id": "14d2d46e",
   "metadata": {},
   "outputs": [],
   "source": [
    "X = dataset"
   ]
  },
  {
   "cell_type": "code",
   "execution_count": 25,
   "id": "c5248746",
   "metadata": {},
   "outputs": [],
   "source": [
    "Y = np.array([[1,0,0,0], [0,1,0,0], [0,0,1,0], [0,0,0,1]])"
   ]
  },
  {
   "cell_type": "code",
   "execution_count": 26,
   "id": "f5492e06",
   "metadata": {},
   "outputs": [
    {
     "data": {
      "text/plain": [
       "array([[1, 0, 0, 0],\n",
       "       [0, 1, 0, 0],\n",
       "       [0, 0, 1, 0],\n",
       "       [0, 0, 0, 1]])"
      ]
     },
     "execution_count": 26,
     "metadata": {},
     "output_type": "execute_result"
    }
   ],
   "source": [
    "Y"
   ]
  },
  {
   "cell_type": "code",
   "execution_count": null,
   "id": "532def4f",
   "metadata": {},
   "outputs": [],
   "source": []
  }
 ],
 "metadata": {
  "kernelspec": {
   "display_name": "myenv",
   "language": "python",
   "name": "python3"
  },
  "language_info": {
   "codemirror_mode": {
    "name": "ipython",
    "version": 3
   },
   "file_extension": ".py",
   "mimetype": "text/x-python",
   "name": "python",
   "nbconvert_exporter": "python",
   "pygments_lexer": "ipython3",
   "version": "3.10.16"
  }
 },
 "nbformat": 4,
 "nbformat_minor": 5
}
