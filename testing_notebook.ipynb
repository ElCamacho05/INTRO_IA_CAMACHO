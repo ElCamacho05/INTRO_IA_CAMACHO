{
 "cells": [
  {
   "cell_type": "code",
   "execution_count": 6,
   "id": "75617b83",
   "metadata": {},
   "outputs": [],
   "source": [
    "import igraph\n",
    "from igraph import Graph, EdgeSeq, plot\n",
    "import plotly.graph_objects as go"
   ]
  },
  {
   "cell_type": "code",
   "execution_count": 7,
   "id": "a8f9e5d5",
   "metadata": {},
   "outputs": [
    {
     "name": "stdout",
     "output_type": "stream",
     "text": [
      "['0', '1', '2', '3', '4']\n",
      "IGRAPH U--- 5 4 --\n",
      "+ edges:\n",
      "0--1 0--2 1--3 1--4\n",
      "[(0, 1), (0, 2), (1, 3), (1, 4)]\n",
      "xn: [-1.0, 0.0, -1.0, 0.0, 1.0]\n",
      "yn: [3.0, 4.0, 2.0, 3.0, 3.0]\n"
     ]
    }
   ],
   "source": [
    "nr_vertices = 5\n",
    "v_label = list(map(str, range(nr_vertices)))\n",
    "print(v_label)\n",
    "G = Graph.Tree(nr_vertices, 2) # 2 stands for children number\n",
    "print(G)\n",
    "lay = G.layout('rt')\n",
    "\n",
    "position = {k: lay[k] for k in range(nr_vertices)}\n",
    "Y = [lay[k][1] for k in range(nr_vertices)]\n",
    "M = max(Y)\n",
    "\n",
    "es = EdgeSeq(G) # sequence of edges\n",
    "E = [e.tuple for e in G.es] # list of edges\n",
    "print(E)\n",
    "L = len(position)\n",
    "Xn = [position[k][0] for k in range(L)]\n",
    "print(f\"xn: {Xn}\")\n",
    "Yn = [2*M-position[k][1] for k in range(L)]\n",
    "print(f\"yn: {Yn}\")\n",
    "Xe = []\n",
    "Ye = []\n",
    "for edge in E:\n",
    "    Xe+=[position[edge[0]][0],position[edge[1]][0], None]\n",
    "    Ye+=[2*M-position[edge[0]][1],2*M-position[edge[1]][1], None]\n",
    "\n",
    "labels = v_label"
   ]
  },
  {
   "cell_type": "code",
   "execution_count": 8,
   "id": "83fb09dc",
   "metadata": {},
   "outputs": [
    {
     "name": "stdout",
     "output_type": "stream",
     "text": [
      "['0', '1', '2', '3', '4']\n",
      "[(0, 1), (0, 2), (1, 3), (1, 4)]\n",
      "xn: [-1.0, 0.0, -1.0, 0.0, 1.0]\n",
      "yn: [3.0, 4.0, 2.0, 3.0, 3.0]\n"
     ]
    }
   ],
   "source": [
    "nr_vertices = 5\n",
    "v_label = list(map(str, range(nr_vertices)))\n",
    "print(v_label)\n",
    "G = Graph.Tree(nr_vertices, 2) # 2 stands for children number\n",
    "plot(G)\n",
    "lay = G.layout('rt')\n",
    "\n",
    "position = {k: lay[k] for k in range(nr_vertices)}\n",
    "Y = [lay[k][1] for k in range(nr_vertices)]\n",
    "M = max(Y)\n",
    "\n",
    "es = EdgeSeq(G) # sequence of edges\n",
    "E = [e.tuple for e in G.es] # list of edges\n",
    "print(E)\n",
    "L = len(position)\n",
    "Xn = [position[k][0] for k in range(L)]\n",
    "print(f\"xn: {Xn}\")\n",
    "Yn = [2*M-position[k][1] for k in range(L)]\n",
    "print(f\"yn: {Yn}\")\n",
    "Xe = []\n",
    "Ye = []\n",
    "for edge in E:\n",
    "    Xe+=[position[edge[0]][0],position[edge[1]][0], None]\n",
    "    Ye+=[2*M-position[edge[0]][1],2*M-position[edge[1]][1], None]\n",
    "\n",
    "labels = v_label"
   ]
  },
  {
   "cell_type": "code",
   "execution_count": 9,
   "id": "9902a155",
   "metadata": {},
   "outputs": [
    {
     "data": {
      "application/vnd.plotly.v1+json": {
       "config": {
        "plotlyServerURL": "https://plot.ly"
       },
       "data": [
        {
         "hoverinfo": "none",
         "line": {
          "color": "rgb(210,210,210)",
          "width": 1
         },
         "mode": "lines",
         "type": "scatter",
         "x": [
          -1,
          0,
          null,
          -1,
          -1,
          null,
          0,
          0,
          null,
          0,
          1,
          null
         ],
         "y": [
          3,
          4,
          null,
          3,
          2,
          null,
          4,
          3,
          null,
          4,
          3,
          null
         ]
        },
        {
         "hoverinfo": "text",
         "marker": {
          "color": "#6175c1",
          "line": {
           "color": "rgb(50,50,50)",
           "width": 1
          },
          "size": 18,
          "symbol": "circle-dot"
         },
         "mode": "markers",
         "name": "bla",
         "opacity": 0.8,
         "text": [
          "0",
          "1",
          "2",
          "3",
          "4"
         ],
         "type": "scatter",
         "x": [
          -1,
          0,
          -1,
          0,
          1
         ],
         "y": [
          3,
          4,
          2,
          3,
          3
         ]
        }
       ],
       "layout": {
        "template": {
         "data": {
          "bar": [
           {
            "error_x": {
             "color": "#2a3f5f"
            },
            "error_y": {
             "color": "#2a3f5f"
            },
            "marker": {
             "line": {
              "color": "#E5ECF6",
              "width": 0.5
             },
             "pattern": {
              "fillmode": "overlay",
              "size": 10,
              "solidity": 0.2
             }
            },
            "type": "bar"
           }
          ],
          "barpolar": [
           {
            "marker": {
             "line": {
              "color": "#E5ECF6",
              "width": 0.5
             },
             "pattern": {
              "fillmode": "overlay",
              "size": 10,
              "solidity": 0.2
             }
            },
            "type": "barpolar"
           }
          ],
          "carpet": [
           {
            "aaxis": {
             "endlinecolor": "#2a3f5f",
             "gridcolor": "white",
             "linecolor": "white",
             "minorgridcolor": "white",
             "startlinecolor": "#2a3f5f"
            },
            "baxis": {
             "endlinecolor": "#2a3f5f",
             "gridcolor": "white",
             "linecolor": "white",
             "minorgridcolor": "white",
             "startlinecolor": "#2a3f5f"
            },
            "type": "carpet"
           }
          ],
          "choropleth": [
           {
            "colorbar": {
             "outlinewidth": 0,
             "ticks": ""
            },
            "type": "choropleth"
           }
          ],
          "contour": [
           {
            "colorbar": {
             "outlinewidth": 0,
             "ticks": ""
            },
            "colorscale": [
             [
              0,
              "#0d0887"
             ],
             [
              0.1111111111111111,
              "#46039f"
             ],
             [
              0.2222222222222222,
              "#7201a8"
             ],
             [
              0.3333333333333333,
              "#9c179e"
             ],
             [
              0.4444444444444444,
              "#bd3786"
             ],
             [
              0.5555555555555556,
              "#d8576b"
             ],
             [
              0.6666666666666666,
              "#ed7953"
             ],
             [
              0.7777777777777778,
              "#fb9f3a"
             ],
             [
              0.8888888888888888,
              "#fdca26"
             ],
             [
              1,
              "#f0f921"
             ]
            ],
            "type": "contour"
           }
          ],
          "contourcarpet": [
           {
            "colorbar": {
             "outlinewidth": 0,
             "ticks": ""
            },
            "type": "contourcarpet"
           }
          ],
          "heatmap": [
           {
            "colorbar": {
             "outlinewidth": 0,
             "ticks": ""
            },
            "colorscale": [
             [
              0,
              "#0d0887"
             ],
             [
              0.1111111111111111,
              "#46039f"
             ],
             [
              0.2222222222222222,
              "#7201a8"
             ],
             [
              0.3333333333333333,
              "#9c179e"
             ],
             [
              0.4444444444444444,
              "#bd3786"
             ],
             [
              0.5555555555555556,
              "#d8576b"
             ],
             [
              0.6666666666666666,
              "#ed7953"
             ],
             [
              0.7777777777777778,
              "#fb9f3a"
             ],
             [
              0.8888888888888888,
              "#fdca26"
             ],
             [
              1,
              "#f0f921"
             ]
            ],
            "type": "heatmap"
           }
          ],
          "histogram": [
           {
            "marker": {
             "pattern": {
              "fillmode": "overlay",
              "size": 10,
              "solidity": 0.2
             }
            },
            "type": "histogram"
           }
          ],
          "histogram2d": [
           {
            "colorbar": {
             "outlinewidth": 0,
             "ticks": ""
            },
            "colorscale": [
             [
              0,
              "#0d0887"
             ],
             [
              0.1111111111111111,
              "#46039f"
             ],
             [
              0.2222222222222222,
              "#7201a8"
             ],
             [
              0.3333333333333333,
              "#9c179e"
             ],
             [
              0.4444444444444444,
              "#bd3786"
             ],
             [
              0.5555555555555556,
              "#d8576b"
             ],
             [
              0.6666666666666666,
              "#ed7953"
             ],
             [
              0.7777777777777778,
              "#fb9f3a"
             ],
             [
              0.8888888888888888,
              "#fdca26"
             ],
             [
              1,
              "#f0f921"
             ]
            ],
            "type": "histogram2d"
           }
          ],
          "histogram2dcontour": [
           {
            "colorbar": {
             "outlinewidth": 0,
             "ticks": ""
            },
            "colorscale": [
             [
              0,
              "#0d0887"
             ],
             [
              0.1111111111111111,
              "#46039f"
             ],
             [
              0.2222222222222222,
              "#7201a8"
             ],
             [
              0.3333333333333333,
              "#9c179e"
             ],
             [
              0.4444444444444444,
              "#bd3786"
             ],
             [
              0.5555555555555556,
              "#d8576b"
             ],
             [
              0.6666666666666666,
              "#ed7953"
             ],
             [
              0.7777777777777778,
              "#fb9f3a"
             ],
             [
              0.8888888888888888,
              "#fdca26"
             ],
             [
              1,
              "#f0f921"
             ]
            ],
            "type": "histogram2dcontour"
           }
          ],
          "mesh3d": [
           {
            "colorbar": {
             "outlinewidth": 0,
             "ticks": ""
            },
            "type": "mesh3d"
           }
          ],
          "parcoords": [
           {
            "line": {
             "colorbar": {
              "outlinewidth": 0,
              "ticks": ""
             }
            },
            "type": "parcoords"
           }
          ],
          "pie": [
           {
            "automargin": true,
            "type": "pie"
           }
          ],
          "scatter": [
           {
            "fillpattern": {
             "fillmode": "overlay",
             "size": 10,
             "solidity": 0.2
            },
            "type": "scatter"
           }
          ],
          "scatter3d": [
           {
            "line": {
             "colorbar": {
              "outlinewidth": 0,
              "ticks": ""
             }
            },
            "marker": {
             "colorbar": {
              "outlinewidth": 0,
              "ticks": ""
             }
            },
            "type": "scatter3d"
           }
          ],
          "scattercarpet": [
           {
            "marker": {
             "colorbar": {
              "outlinewidth": 0,
              "ticks": ""
             }
            },
            "type": "scattercarpet"
           }
          ],
          "scattergeo": [
           {
            "marker": {
             "colorbar": {
              "outlinewidth": 0,
              "ticks": ""
             }
            },
            "type": "scattergeo"
           }
          ],
          "scattergl": [
           {
            "marker": {
             "colorbar": {
              "outlinewidth": 0,
              "ticks": ""
             }
            },
            "type": "scattergl"
           }
          ],
          "scattermap": [
           {
            "marker": {
             "colorbar": {
              "outlinewidth": 0,
              "ticks": ""
             }
            },
            "type": "scattermap"
           }
          ],
          "scattermapbox": [
           {
            "marker": {
             "colorbar": {
              "outlinewidth": 0,
              "ticks": ""
             }
            },
            "type": "scattermapbox"
           }
          ],
          "scatterpolar": [
           {
            "marker": {
             "colorbar": {
              "outlinewidth": 0,
              "ticks": ""
             }
            },
            "type": "scatterpolar"
           }
          ],
          "scatterpolargl": [
           {
            "marker": {
             "colorbar": {
              "outlinewidth": 0,
              "ticks": ""
             }
            },
            "type": "scatterpolargl"
           }
          ],
          "scatterternary": [
           {
            "marker": {
             "colorbar": {
              "outlinewidth": 0,
              "ticks": ""
             }
            },
            "type": "scatterternary"
           }
          ],
          "surface": [
           {
            "colorbar": {
             "outlinewidth": 0,
             "ticks": ""
            },
            "colorscale": [
             [
              0,
              "#0d0887"
             ],
             [
              0.1111111111111111,
              "#46039f"
             ],
             [
              0.2222222222222222,
              "#7201a8"
             ],
             [
              0.3333333333333333,
              "#9c179e"
             ],
             [
              0.4444444444444444,
              "#bd3786"
             ],
             [
              0.5555555555555556,
              "#d8576b"
             ],
             [
              0.6666666666666666,
              "#ed7953"
             ],
             [
              0.7777777777777778,
              "#fb9f3a"
             ],
             [
              0.8888888888888888,
              "#fdca26"
             ],
             [
              1,
              "#f0f921"
             ]
            ],
            "type": "surface"
           }
          ],
          "table": [
           {
            "cells": {
             "fill": {
              "color": "#EBF0F8"
             },
             "line": {
              "color": "white"
             }
            },
            "header": {
             "fill": {
              "color": "#C8D4E3"
             },
             "line": {
              "color": "white"
             }
            },
            "type": "table"
           }
          ]
         },
         "layout": {
          "annotationdefaults": {
           "arrowcolor": "#2a3f5f",
           "arrowhead": 0,
           "arrowwidth": 1
          },
          "autotypenumbers": "strict",
          "coloraxis": {
           "colorbar": {
            "outlinewidth": 0,
            "ticks": ""
           }
          },
          "colorscale": {
           "diverging": [
            [
             0,
             "#8e0152"
            ],
            [
             0.1,
             "#c51b7d"
            ],
            [
             0.2,
             "#de77ae"
            ],
            [
             0.3,
             "#f1b6da"
            ],
            [
             0.4,
             "#fde0ef"
            ],
            [
             0.5,
             "#f7f7f7"
            ],
            [
             0.6,
             "#e6f5d0"
            ],
            [
             0.7,
             "#b8e186"
            ],
            [
             0.8,
             "#7fbc41"
            ],
            [
             0.9,
             "#4d9221"
            ],
            [
             1,
             "#276419"
            ]
           ],
           "sequential": [
            [
             0,
             "#0d0887"
            ],
            [
             0.1111111111111111,
             "#46039f"
            ],
            [
             0.2222222222222222,
             "#7201a8"
            ],
            [
             0.3333333333333333,
             "#9c179e"
            ],
            [
             0.4444444444444444,
             "#bd3786"
            ],
            [
             0.5555555555555556,
             "#d8576b"
            ],
            [
             0.6666666666666666,
             "#ed7953"
            ],
            [
             0.7777777777777778,
             "#fb9f3a"
            ],
            [
             0.8888888888888888,
             "#fdca26"
            ],
            [
             1,
             "#f0f921"
            ]
           ],
           "sequentialminus": [
            [
             0,
             "#0d0887"
            ],
            [
             0.1111111111111111,
             "#46039f"
            ],
            [
             0.2222222222222222,
             "#7201a8"
            ],
            [
             0.3333333333333333,
             "#9c179e"
            ],
            [
             0.4444444444444444,
             "#bd3786"
            ],
            [
             0.5555555555555556,
             "#d8576b"
            ],
            [
             0.6666666666666666,
             "#ed7953"
            ],
            [
             0.7777777777777778,
             "#fb9f3a"
            ],
            [
             0.8888888888888888,
             "#fdca26"
            ],
            [
             1,
             "#f0f921"
            ]
           ]
          },
          "colorway": [
           "#636efa",
           "#EF553B",
           "#00cc96",
           "#ab63fa",
           "#FFA15A",
           "#19d3f3",
           "#FF6692",
           "#B6E880",
           "#FF97FF",
           "#FECB52"
          ],
          "font": {
           "color": "#2a3f5f"
          },
          "geo": {
           "bgcolor": "white",
           "lakecolor": "white",
           "landcolor": "#E5ECF6",
           "showlakes": true,
           "showland": true,
           "subunitcolor": "white"
          },
          "hoverlabel": {
           "align": "left"
          },
          "hovermode": "closest",
          "mapbox": {
           "style": "light"
          },
          "paper_bgcolor": "white",
          "plot_bgcolor": "#E5ECF6",
          "polar": {
           "angularaxis": {
            "gridcolor": "white",
            "linecolor": "white",
            "ticks": ""
           },
           "bgcolor": "#E5ECF6",
           "radialaxis": {
            "gridcolor": "white",
            "linecolor": "white",
            "ticks": ""
           }
          },
          "scene": {
           "xaxis": {
            "backgroundcolor": "#E5ECF6",
            "gridcolor": "white",
            "gridwidth": 2,
            "linecolor": "white",
            "showbackground": true,
            "ticks": "",
            "zerolinecolor": "white"
           },
           "yaxis": {
            "backgroundcolor": "#E5ECF6",
            "gridcolor": "white",
            "gridwidth": 2,
            "linecolor": "white",
            "showbackground": true,
            "ticks": "",
            "zerolinecolor": "white"
           },
           "zaxis": {
            "backgroundcolor": "#E5ECF6",
            "gridcolor": "white",
            "gridwidth": 2,
            "linecolor": "white",
            "showbackground": true,
            "ticks": "",
            "zerolinecolor": "white"
           }
          },
          "shapedefaults": {
           "line": {
            "color": "#2a3f5f"
           }
          },
          "ternary": {
           "aaxis": {
            "gridcolor": "white",
            "linecolor": "white",
            "ticks": ""
           },
           "baxis": {
            "gridcolor": "white",
            "linecolor": "white",
            "ticks": ""
           },
           "bgcolor": "#E5ECF6",
           "caxis": {
            "gridcolor": "white",
            "linecolor": "white",
            "ticks": ""
           }
          },
          "title": {
           "x": 0.05
          },
          "xaxis": {
           "automargin": true,
           "gridcolor": "white",
           "linecolor": "white",
           "ticks": "",
           "title": {
            "standoff": 15
           },
           "zerolinecolor": "white",
           "zerolinewidth": 2
          },
          "yaxis": {
           "automargin": true,
           "gridcolor": "white",
           "linecolor": "white",
           "ticks": "",
           "title": {
            "standoff": 15
           },
           "zerolinecolor": "white",
           "zerolinewidth": 2
          }
         }
        }
       }
      }
     },
     "metadata": {},
     "output_type": "display_data"
    }
   ],
   "source": [
    "fig = go.Figure()\n",
    "fig.add_trace(go.Scatter(x=Xe,\n",
    "                   y=Ye,\n",
    "                   mode='lines',\n",
    "                   line=dict(color='rgb(210,210,210)', width=1),\n",
    "                   hoverinfo='none'\n",
    "                   ))\n",
    "fig.add_trace(go.Scatter(x=Xn,\n",
    "                  y=Yn,\n",
    "                  mode='markers',\n",
    "                  name='bla',\n",
    "                  marker=dict(symbol='circle-dot',\n",
    "                                size=18,\n",
    "                                color='#6175c1',    #'#DB4551',\n",
    "                                line=dict(color='rgb(50,50,50)', width=1)\n",
    "                                ),\n",
    "                  text=labels,\n",
    "                  hoverinfo='text',\n",
    "                  opacity=0.8\n",
    "                  ))"
   ]
  },
  {
   "cell_type": "code",
   "execution_count": 10,
   "id": "3a857d90",
   "metadata": {},
   "outputs": [],
   "source": [
    "from igraph import Graph\n",
    "\n",
    "def build_igraph_from_tree(root):\n",
    "    g = Graph(directed=True)\n",
    "    name_to_index = {}\n",
    "\n",
    "    def dfs(node):\n",
    "        idx = g.vcount()\n",
    "        g.add_vertex(name=node.name)\n",
    "        name_to_index[node] = idx\n",
    "\n",
    "        for child in node.children:\n",
    "            child_idx = dfs(child)\n",
    "            g.add_edge(idx, child_idx)\n",
    "        return idx\n",
    "\n",
    "    dfs(root)\n",
    "    return g"
   ]
  },
  {
   "cell_type": "code",
   "execution_count": 11,
   "id": "ebc1e597",
   "metadata": {},
   "outputs": [],
   "source": [
    "def get_tree_layout(g):\n",
    "    layout = g.layout_reingold_tilford(mode=\"in\", root=0)\n",
    "    return layout"
   ]
  },
  {
   "cell_type": "code",
   "execution_count": 12,
   "id": "41df3d53",
   "metadata": {},
   "outputs": [],
   "source": [
    "import plotly.graph_objects as go\n",
    "\n",
    "def plot_tree_graph(g, layout):\n",
    "    Xn = [coord[0] for coord in layout]\n",
    "    Yn = [-coord[1] for coord in layout]  # invertimos Y para que el árbol crezca hacia abajo\n",
    "\n",
    "    Xe = []\n",
    "    Ye = []\n",
    "    for e in g.es:\n",
    "        Xe += [Xn[e.source], Xn[e.target], None]\n",
    "        Ye += [Yn[e.source], Yn[e.target], None]\n",
    "\n",
    "    edge_trace = go.Scatter(\n",
    "        x=Xe, y=Ye,\n",
    "        mode='lines',\n",
    "        line=dict(color='black', width=1),\n",
    "        hoverinfo='none'\n",
    "    )\n",
    "\n",
    "    node_trace = go.Scatter(\n",
    "        x=Xn, y=Yn,\n",
    "        mode='markers+text',\n",
    "        marker=dict(symbol='circle-dot', size=20, color='lightblue', line=dict(color='blue', width=2)),\n",
    "        text=[v['name'] for v in g.vs],\n",
    "        textposition='top center',\n",
    "        hoverinfo='text'\n",
    "    )\n",
    "\n",
    "    fig = go.Figure(data=[edge_trace, node_trace],\n",
    "                    layout=go.Layout(\n",
    "                        title='Árbol con igraph + plotly',\n",
    "                        title_x=0.5,\n",
    "                        showlegend=False,\n",
    "                        hovermode='closest',\n",
    "                        margin=dict(b=20, l=5, r=5, t=40),\n",
    "                        xaxis=dict(showline=False, zeroline=False, showgrid=False),\n",
    "                        yaxis=dict(showline=False, zeroline=False, showgrid=False)\n",
    "                    ))\n",
    "\n",
    "    fig.show()\n"
   ]
  },
  {
   "cell_type": "code",
   "execution_count": 13,
   "id": "35704dc9",
   "metadata": {},
   "outputs": [],
   "source": [
    "class Node:\n",
    "    def __init__(self, name):\n",
    "        self.name = name\n",
    "        self.children = []\n",
    "\n",
    "    def add_child(self, child):\n",
    "        self.children.append(child)\n"
   ]
  },
  {
   "cell_type": "code",
   "execution_count": 14,
   "id": "5b07bf5d",
   "metadata": {},
   "outputs": [
    {
     "ename": "TypeError",
     "evalue": "conversion to vertex sequence failed",
     "output_type": "error",
     "traceback": [
      "\u001b[0;31m---------------------------------------------------------------------------\u001b[0m",
      "\u001b[0;31mTypeError\u001b[0m                                 Traceback (most recent call last)",
      "Cell \u001b[0;32mIn[14], line 17\u001b[0m\n\u001b[1;32m     15\u001b[0m \u001b[38;5;66;03m# Convertimos y visualizamos\u001b[39;00m\n\u001b[1;32m     16\u001b[0m g \u001b[38;5;241m=\u001b[39m build_igraph_from_tree(root)\n\u001b[0;32m---> 17\u001b[0m layout \u001b[38;5;241m=\u001b[39m \u001b[43mget_tree_layout\u001b[49m\u001b[43m(\u001b[49m\u001b[43mg\u001b[49m\u001b[43m)\u001b[49m\n\u001b[1;32m     18\u001b[0m plot_tree_graph(g, layout)\n",
      "Cell \u001b[0;32mIn[11], line 2\u001b[0m, in \u001b[0;36mget_tree_layout\u001b[0;34m(g)\u001b[0m\n\u001b[1;32m      1\u001b[0m \u001b[38;5;28;01mdef\u001b[39;00m\u001b[38;5;250m \u001b[39m\u001b[38;5;21mget_tree_layout\u001b[39m(g):\n\u001b[0;32m----> 2\u001b[0m     layout \u001b[38;5;241m=\u001b[39m \u001b[43mg\u001b[49m\u001b[38;5;241;43m.\u001b[39;49m\u001b[43mlayout_reingold_tilford\u001b[49m\u001b[43m(\u001b[49m\u001b[43mmode\u001b[49m\u001b[38;5;241;43m=\u001b[39;49m\u001b[38;5;124;43m\"\u001b[39;49m\u001b[38;5;124;43min\u001b[39;49m\u001b[38;5;124;43m\"\u001b[39;49m\u001b[43m,\u001b[49m\u001b[43m \u001b[49m\u001b[43mroot\u001b[49m\u001b[38;5;241;43m=\u001b[39;49m\u001b[38;5;241;43m0\u001b[39;49m\u001b[43m)\u001b[49m\n\u001b[1;32m      3\u001b[0m     \u001b[38;5;28;01mreturn\u001b[39;00m layout\n",
      "File \u001b[0;32m~/.conda/envs/myenv/lib/python3.10/site-packages/igraph/layout.py:691\u001b[0m, in \u001b[0;36m_layout_method_wrapper.<locals>.result\u001b[0;34m(*args, **kwds)\u001b[0m\n\u001b[1;32m    690\u001b[0m \u001b[38;5;28;01mdef\u001b[39;00m\u001b[38;5;250m \u001b[39m\u001b[38;5;21mresult\u001b[39m(\u001b[38;5;241m*\u001b[39margs, \u001b[38;5;241m*\u001b[39m\u001b[38;5;241m*\u001b[39mkwds):\n\u001b[0;32m--> 691\u001b[0m     layout \u001b[38;5;241m=\u001b[39m \u001b[43mfunc\u001b[49m\u001b[43m(\u001b[49m\u001b[38;5;241;43m*\u001b[39;49m\u001b[43margs\u001b[49m\u001b[43m,\u001b[49m\u001b[43m \u001b[49m\u001b[38;5;241;43m*\u001b[39;49m\u001b[38;5;241;43m*\u001b[39;49m\u001b[43mkwds\u001b[49m\u001b[43m)\u001b[49m\n\u001b[1;32m    692\u001b[0m     \u001b[38;5;28;01mif\u001b[39;00m \u001b[38;5;129;01mnot\u001b[39;00m \u001b[38;5;28misinstance\u001b[39m(layout, Layout):\n\u001b[1;32m    693\u001b[0m         layout \u001b[38;5;241m=\u001b[39m Layout(layout)\n",
      "\u001b[0;31mTypeError\u001b[0m: conversion to vertex sequence failed"
     ]
    }
   ],
   "source": [
    "# Construimos el árbol\n",
    "root = Node(\"A\")\n",
    "b = Node(\"B\")\n",
    "c = Node(\"C\")\n",
    "d = Node(\"D\")\n",
    "e = Node(\"E\")\n",
    "f = Node(\"F\")\n",
    "\n",
    "root.add_child(b)\n",
    "root.add_child(c)\n",
    "b.add_child(d)\n",
    "b.add_child(e)\n",
    "c.add_child(f)\n",
    "\n",
    "# Convertimos y visualizamos\n",
    "g = build_igraph_from_tree(root)\n",
    "layout = get_tree_layout(g)\n",
    "plot_tree_graph(g, layout)\n"
   ]
  },
  {
   "cell_type": "code",
   "execution_count": null,
   "id": "07389a97",
   "metadata": {},
   "outputs": [
    {
     "data": {
      "image/svg+xml": [
       "<?xml version=\"1.0\" encoding=\"UTF-8\"?>\n",
       "<svg xmlns=\"http://www.w3.org/2000/svg\" xmlns:xlink=\"http://www.w3.org/1999/xlink\" width=\"600\" height=\"600\" viewBox=\"0 0 600 600\">\n",
       "<rect x=\"-60\" y=\"-60\" width=\"720\" height=\"720\" fill=\"rgb(100%, 100%, 100%)\" fill-opacity=\"1\"/>\n",
       "<path fill=\"none\" stroke-width=\"1\" stroke-linecap=\"butt\" stroke-linejoin=\"miter\" stroke=\"rgb(26.666667%, 26.666667%, 26.666667%)\" stroke-opacity=\"1\" stroke-miterlimit=\"10\" d=\"M 248.375 334.140625 L 381.277344 317.511719 \"/>\n",
       "<path fill=\"none\" stroke-width=\"1\" stroke-linecap=\"butt\" stroke-linejoin=\"miter\" stroke=\"rgb(26.666667%, 26.666667%, 26.666667%)\" stroke-opacity=\"1\" stroke-miterlimit=\"10\" d=\"M 248.375 334.140625 L 119.398438 356.105469 \"/>\n",
       "<path fill=\"none\" stroke-width=\"1\" stroke-linecap=\"butt\" stroke-linejoin=\"miter\" stroke=\"rgb(26.666667%, 26.666667%, 26.666667%)\" stroke-opacity=\"1\" stroke-miterlimit=\"10\" d=\"M 381.277344 317.511719 L 452.042969 176.007812 \"/>\n",
       "<path fill=\"none\" stroke-width=\"1\" stroke-linecap=\"butt\" stroke-linejoin=\"miter\" stroke=\"rgb(26.666667%, 26.666667%, 26.666667%)\" stroke-opacity=\"1\" stroke-miterlimit=\"10\" d=\"M 381.277344 317.511719 L 452.101562 455.429688 \"/>\n",
       "<path fill=\"none\" stroke-width=\"1\" stroke-linecap=\"butt\" stroke-linejoin=\"miter\" stroke=\"rgb(26.666667%, 26.666667%, 26.666667%)\" stroke-opacity=\"1\" stroke-miterlimit=\"10\" d=\"M 119.398438 356.105469 L 48.273438 487.613281 \"/>\n",
       "<path fill=\"none\" stroke-width=\"1\" stroke-linecap=\"butt\" stroke-linejoin=\"miter\" stroke=\"rgb(26.666667%, 26.666667%, 26.666667%)\" stroke-opacity=\"1\" stroke-miterlimit=\"10\" d=\"M 119.398438 356.105469 L 20 254.789062 \"/>\n",
       "<path fill=\"none\" stroke-width=\"1\" stroke-linecap=\"butt\" stroke-linejoin=\"miter\" stroke=\"rgb(26.666667%, 26.666667%, 26.666667%)\" stroke-opacity=\"1\" stroke-miterlimit=\"10\" d=\"M 452.042969 176.007812 L 433.777344 20 \"/>\n",
       "<path fill=\"none\" stroke-width=\"1\" stroke-linecap=\"butt\" stroke-linejoin=\"miter\" stroke=\"rgb(26.666667%, 26.666667%, 26.666667%)\" stroke-opacity=\"1\" stroke-miterlimit=\"10\" d=\"M 452.042969 176.007812 L 580 144.390625 \"/>\n",
       "<path fill=\"none\" stroke-width=\"1\" stroke-linecap=\"butt\" stroke-linejoin=\"miter\" stroke=\"rgb(26.666667%, 26.666667%, 26.666667%)\" stroke-opacity=\"1\" stroke-miterlimit=\"10\" d=\"M 452.101562 455.429688 L 522.554688 580 \"/>\n",
       "<path fill-rule=\"nonzero\" fill=\"rgb(100%, 0%, 0%)\" fill-opacity=\"1\" stroke-width=\"1\" stroke-linecap=\"butt\" stroke-linejoin=\"miter\" stroke=\"rgb(0%, 0%, 0%)\" stroke-opacity=\"1\" stroke-miterlimit=\"10\" d=\"M 258.375 334.140625 C 258.375 339.664062 253.898438 344.140625 248.375 344.140625 C 242.851562 344.140625 238.375 339.664062 238.375 334.140625 C 238.375 328.617188 242.851562 324.140625 248.375 324.140625 C 253.898438 324.140625 258.375 328.617188 258.375 334.140625 \"/>\n",
       "<path fill-rule=\"nonzero\" fill=\"rgb(100%, 0%, 0%)\" fill-opacity=\"1\" stroke-width=\"1\" stroke-linecap=\"butt\" stroke-linejoin=\"miter\" stroke=\"rgb(0%, 0%, 0%)\" stroke-opacity=\"1\" stroke-miterlimit=\"10\" d=\"M 391.277344 317.511719 C 391.277344 323.035156 386.800781 327.511719 381.277344 327.511719 C 375.753906 327.511719 371.277344 323.035156 371.277344 317.511719 C 371.277344 311.992188 375.753906 307.511719 381.277344 307.511719 C 386.800781 307.511719 391.277344 311.992188 391.277344 317.511719 \"/>\n",
       "<path fill-rule=\"nonzero\" fill=\"rgb(100%, 0%, 0%)\" fill-opacity=\"1\" stroke-width=\"1\" stroke-linecap=\"butt\" stroke-linejoin=\"miter\" stroke=\"rgb(0%, 0%, 0%)\" stroke-opacity=\"1\" stroke-miterlimit=\"10\" d=\"M 129.398438 356.105469 C 129.398438 361.628906 124.921875 366.105469 119.398438 366.105469 C 113.878906 366.105469 109.398438 361.628906 109.398438 356.105469 C 109.398438 350.582031 113.878906 346.105469 119.398438 346.105469 C 124.921875 346.105469 129.398438 350.582031 129.398438 356.105469 \"/>\n",
       "<path fill-rule=\"nonzero\" fill=\"rgb(100%, 0%, 0%)\" fill-opacity=\"1\" stroke-width=\"1\" stroke-linecap=\"butt\" stroke-linejoin=\"miter\" stroke=\"rgb(0%, 0%, 0%)\" stroke-opacity=\"1\" stroke-miterlimit=\"10\" d=\"M 462.042969 176.007812 C 462.042969 181.53125 457.5625 186.007812 452.042969 186.007812 C 446.519531 186.007812 442.042969 181.53125 442.042969 176.007812 C 442.042969 170.484375 446.519531 166.007812 452.042969 166.007812 C 457.5625 166.007812 462.042969 170.484375 462.042969 176.007812 \"/>\n",
       "<path fill-rule=\"nonzero\" fill=\"rgb(100%, 0%, 0%)\" fill-opacity=\"1\" stroke-width=\"1\" stroke-linecap=\"butt\" stroke-linejoin=\"miter\" stroke=\"rgb(0%, 0%, 0%)\" stroke-opacity=\"1\" stroke-miterlimit=\"10\" d=\"M 462.101562 455.429688 C 462.101562 460.949219 457.625 465.429688 452.101562 465.429688 C 446.578125 465.429688 442.101562 460.949219 442.101562 455.429688 C 442.101562 449.90625 446.578125 445.429688 452.101562 445.429688 C 457.625 445.429688 462.101562 449.90625 462.101562 455.429688 \"/>\n",
       "<path fill-rule=\"nonzero\" fill=\"rgb(100%, 0%, 0%)\" fill-opacity=\"1\" stroke-width=\"1\" stroke-linecap=\"butt\" stroke-linejoin=\"miter\" stroke=\"rgb(0%, 0%, 0%)\" stroke-opacity=\"1\" stroke-miterlimit=\"10\" d=\"M 58.273438 487.613281 C 58.273438 493.136719 53.796875 497.613281 48.273438 497.613281 C 42.75 497.613281 38.273438 493.136719 38.273438 487.613281 C 38.273438 482.089844 42.75 477.613281 48.273438 477.613281 C 53.796875 477.613281 58.273438 482.089844 58.273438 487.613281 \"/>\n",
       "<path fill-rule=\"nonzero\" fill=\"rgb(100%, 0%, 0%)\" fill-opacity=\"1\" stroke-width=\"1\" stroke-linecap=\"butt\" stroke-linejoin=\"miter\" stroke=\"rgb(0%, 0%, 0%)\" stroke-opacity=\"1\" stroke-miterlimit=\"10\" d=\"M 30 254.789062 C 30 260.3125 25.523438 264.789062 20 264.789062 C 14.476562 264.789062 10 260.3125 10 254.789062 C 10 249.265625 14.476562 244.789062 20 244.789062 C 25.523438 244.789062 30 249.265625 30 254.789062 \"/>\n",
       "<path fill-rule=\"nonzero\" fill=\"rgb(100%, 0%, 0%)\" fill-opacity=\"1\" stroke-width=\"1\" stroke-linecap=\"butt\" stroke-linejoin=\"miter\" stroke=\"rgb(0%, 0%, 0%)\" stroke-opacity=\"1\" stroke-miterlimit=\"10\" d=\"M 443.777344 20 C 443.777344 25.523438 439.300781 30 433.777344 30 C 428.253906 30 423.777344 25.523438 423.777344 20 C 423.777344 14.476562 428.253906 10 433.777344 10 C 439.300781 10 443.777344 14.476562 443.777344 20 \"/>\n",
       "<path fill-rule=\"nonzero\" fill=\"rgb(100%, 0%, 0%)\" fill-opacity=\"1\" stroke-width=\"1\" stroke-linecap=\"butt\" stroke-linejoin=\"miter\" stroke=\"rgb(0%, 0%, 0%)\" stroke-opacity=\"1\" stroke-miterlimit=\"10\" d=\"M 590 144.390625 C 590 149.914062 585.523438 154.390625 580 154.390625 C 574.476562 154.390625 570 149.914062 570 144.390625 C 570 138.871094 574.476562 134.390625 580 134.390625 C 585.523438 134.390625 590 138.871094 590 144.390625 \"/>\n",
       "<path fill-rule=\"nonzero\" fill=\"rgb(100%, 0%, 0%)\" fill-opacity=\"1\" stroke-width=\"1\" stroke-linecap=\"butt\" stroke-linejoin=\"miter\" stroke=\"rgb(0%, 0%, 0%)\" stroke-opacity=\"1\" stroke-miterlimit=\"10\" d=\"M 532.554688 580 C 532.554688 585.523438 528.078125 590 522.554688 590 C 517.035156 590 512.554688 585.523438 512.554688 580 C 512.554688 574.476562 517.035156 570 522.554688 570 C 528.078125 570 532.554688 574.476562 532.554688 580 \"/>\n",
       "</svg>\n"
      ],
      "text/plain": [
       "<igraph.drawing.cairo.plot.CairoPlot at 0x7f1fd274afe0>"
      ]
     },
     "execution_count": 5,
     "metadata": {
      "image/svg+xml": {
       "isolated": true
      }
     },
     "output_type": "execute_result"
    }
   ],
   "source": [
    "from igraph import Graph, plot\n",
    "\n",
    "G = Graph.Tree(10, 2)\n",
    "plot(G)"
   ]
  },
  {
   "cell_type": "code",
   "execution_count": null,
   "id": "9a34372e",
   "metadata": {},
   "outputs": [],
   "source": [
    "def dibujar_grafo_plotly(grafo, labels):\n",
    "    # Encontrar raíz: nodo sin padres (grado de entrada 0)\n",
    "    raices = [v.index for v in grafo.vs if grafo.degree(v, mode=\"in\") == 0]\n",
    "    if len(raices) != 1:\n",
    "        raise ValueError(f\"Se esperaba 1 raíz, pero hay {len(raices)}\")\n",
    "    root_idx = raices[0]\n",
    "\n",
    "    layout = grafo.layout_reingold_tilford(mode=\"in\", root=[root_idx])  # <-- raíz como lista\n",
    "\n",
    "    Xn = [pos[0] for pos in layout]\n",
    "    Yn = [-pos[1] for pos in layout]  # invertir eje Y para que raíz quede arriba\n",
    "\n",
    "    Xe, Ye = [], []\n",
    "    for edge in grafo.get_edgelist():\n",
    "        Xe += [Xn[edge[0]], Xn[edge[1]], None]\n",
    "        Ye += [Yn[edge[0]], Yn[edge[1]], None]\n",
    "\n",
    "    trace_edges = go.Scatter(\n",
    "        x=Xe, y=Ye,\n",
    "        mode='lines',\n",
    "        line=dict(width=1, color='gray'),\n",
    "        hoverinfo='none'\n",
    "    )\n",
    "\n",
    "    trace_nodes = go.Scatter(\n",
    "        x=Xn, y=Yn,\n",
    "        mode='markers+text',\n",
    "        marker=dict(symbol='circle-dot', size=30, color='lightblue', line=dict(width=2)),\n",
    "        text=labels,\n",
    "        textposition=\"top center\",\n",
    "        hoverinfo='text'\n",
    "    )\n",
    "\n",
    "    fig = go.Figure(data=[trace_edges, trace_nodes],\n",
    "                    layout=go.Layout(title='Árbol de búsqueda',\n",
    "                                     showlegend=False,\n",
    "                                     margin=dict(b=20, l=5, r=5, t=40),\n",
    "                                     xaxis=dict(showgrid=False, zeroline=False),\n",
    "                                     yaxis=dict(showgrid=False, zeroline=False)))\n",
    "    fig.show()"
   ]
  }
 ],
 "metadata": {
  "kernelspec": {
   "display_name": "myenv",
   "language": "python",
   "name": "python3"
  },
  "language_info": {
   "codemirror_mode": {
    "name": "ipython",
    "version": 3
   },
   "file_extension": ".py",
   "mimetype": "text/x-python",
   "name": "python",
   "nbconvert_exporter": "python",
   "pygments_lexer": "ipython3",
   "version": "3.10.16"
  }
 },
 "nbformat": 4,
 "nbformat_minor": 5
}
